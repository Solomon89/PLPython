{
 "cells": [
  {
   "cell_type": "code",
   "execution_count": 1,
   "id": "silent-endorsement",
   "metadata": {},
   "outputs": [
    {
     "data": {
      "text/plain": [
       "['И', 'Б', 'С', '-', '2', '0', '1']"
      ]
     },
     "execution_count": 1,
     "metadata": {},
     "output_type": "execute_result"
    }
   ],
   "source": [
    "list1 = list('ИБС-201')\n",
    "list1"
   ]
  },
  {
   "cell_type": "code",
   "execution_count": 2,
   "id": "fresh-midwest",
   "metadata": {},
   "outputs": [
    {
     "data": {
      "text/plain": [
       "['И', 'Б', 'С', '-', 2, '0', '1']"
      ]
     },
     "execution_count": 2,
     "metadata": {},
     "output_type": "execute_result"
    }
   ],
   "source": [
    "list1[4] = 2\n",
    "list1\n"
   ]
  },
  {
   "cell_type": "code",
   "execution_count": 4,
   "id": "portuguese-clinton",
   "metadata": {},
   "outputs": [
    {
     "data": {
      "text/plain": [
       "[1.0, 2, 5, 6, 7, 8, 9]"
      ]
     },
     "execution_count": 4,
     "metadata": {},
     "output_type": "execute_result"
    }
   ],
   "source": [
    "list2 = [1.0,2,5,6,7,8,9]\n",
    "list2"
   ]
  },
  {
   "cell_type": "code",
   "execution_count": 5,
   "id": "considerable-scout",
   "metadata": {},
   "outputs": [
    {
     "data": {
      "text/plain": [
       "[4, 8, 12, 16]"
      ]
     },
     "execution_count": 5,
     "metadata": {},
     "output_type": "execute_result"
    }
   ],
   "source": [
    "list3 = [item*4 for item in [1,2,3,4]]\n",
    "list3"
   ]
  },
  {
   "cell_type": "code",
   "execution_count": 9,
   "id": "divine-trustee",
   "metadata": {},
   "outputs": [
    {
     "name": "stdout",
     "output_type": "stream",
     "text": [
      "18\n"
     ]
    },
    {
     "data": {
      "text/plain": [
       "[1, 0, 3, 2, 7, 6, 9, 8, 19, 18, 39, 38, 13, 12, 27, 26, 55, 54]"
      ]
     },
     "execution_count": 9,
     "metadata": {},
     "output_type": "execute_result"
    }
   ],
   "source": [
    "list4 = [item1 * item2 - item3 for item1 in [1,5,7] for item2 in [2,4,8] for item3 in [1,2]]\n",
    "print(len(list4))\n",
    "list4"
   ]
  },
  {
   "cell_type": "code",
   "execution_count": 10,
   "id": "dominican-sullivan",
   "metadata": {},
   "outputs": [
    {
     "data": {
      "text/plain": [
       "[4, 8, 12, 16, 7]"
      ]
     },
     "execution_count": 10,
     "metadata": {},
     "output_type": "execute_result"
    }
   ],
   "source": [
    "list3.append(7)\n",
    "list3"
   ]
  },
  {
   "cell_type": "code",
   "execution_count": 11,
   "id": "previous-discipline",
   "metadata": {},
   "outputs": [
    {
     "data": {
      "text/plain": [
       "[4, 8, 12, 16, 7, 4, 5, 8, 6]"
      ]
     },
     "execution_count": 11,
     "metadata": {},
     "output_type": "execute_result"
    }
   ],
   "source": [
    "list3.extend([4,5,8,6])\n",
    "list3"
   ]
  },
  {
   "cell_type": "code",
   "execution_count": 12,
   "id": "entitled-record",
   "metadata": {},
   "outputs": [
    {
     "data": {
      "text/plain": [
       "[4, 8, 500, 12, 16, 7, 4, 5, 8, 6]"
      ]
     },
     "execution_count": 12,
     "metadata": {},
     "output_type": "execute_result"
    }
   ],
   "source": [
    "list3.insert(2,500)\n",
    "list3"
   ]
  },
  {
   "cell_type": "code",
   "execution_count": 14,
   "id": "psychological-absolute",
   "metadata": {},
   "outputs": [
    {
     "name": "stdout",
     "output_type": "stream",
     "text": [
      "9\n"
     ]
    },
    {
     "data": {
      "text/plain": [
       "[4, 8, 500, 12, 7, 4, 5, 8, 6]"
      ]
     },
     "execution_count": 14,
     "metadata": {},
     "output_type": "execute_result"
    }
   ],
   "source": [
    "list3.remove(16)\n",
    "print(len(list3))\n",
    "list3"
   ]
  },
  {
   "cell_type": "code",
   "execution_count": 16,
   "id": "fiscal-bidding",
   "metadata": {},
   "outputs": [
    {
     "name": "stdout",
     "output_type": "stream",
     "text": [
      "8\n"
     ]
    },
    {
     "data": {
      "text/plain": [
       "[4, 8, 12, 7, 4, 5, 8, 6]"
      ]
     },
     "execution_count": 16,
     "metadata": {},
     "output_type": "execute_result"
    }
   ],
   "source": [
    "list3.pop(2)\n",
    "print(len(list3))\n",
    "list3"
   ]
  },
  {
   "cell_type": "code",
   "execution_count": 19,
   "id": "willing-england",
   "metadata": {},
   "outputs": [
    {
     "data": {
      "text/plain": [
       "2"
      ]
     },
     "execution_count": 19,
     "metadata": {},
     "output_type": "execute_result"
    }
   ],
   "source": [
    "list3.index(12)\n"
   ]
  },
  {
   "cell_type": "code",
   "execution_count": 22,
   "id": "breathing-indonesian",
   "metadata": {},
   "outputs": [
    {
     "data": {
      "text/plain": [
       "[4, 8, 12, 7, 4, 5, 8, 6, 12, 12]"
      ]
     },
     "execution_count": 22,
     "metadata": {},
     "output_type": "execute_result"
    }
   ],
   "source": [
    "list3.insert(8,12)\n",
    "list3"
   ]
  },
  {
   "cell_type": "code",
   "execution_count": 20,
   "id": "excited-concentration",
   "metadata": {},
   "outputs": [
    {
     "data": {
      "text/plain": [
       "8"
      ]
     },
     "execution_count": 20,
     "metadata": {},
     "output_type": "execute_result"
    }
   ],
   "source": [
    "list3.index(12,3)"
   ]
  },
  {
   "cell_type": "code",
   "execution_count": 23,
   "id": "english-vermont",
   "metadata": {},
   "outputs": [
    {
     "data": {
      "text/plain": [
       "3"
      ]
     },
     "execution_count": 23,
     "metadata": {},
     "output_type": "execute_result"
    }
   ],
   "source": [
    "list3.count(12)"
   ]
  },
  {
   "cell_type": "code",
   "execution_count": 26,
   "id": "inside-sixth",
   "metadata": {},
   "outputs": [
    {
     "data": {
      "text/plain": [
       "[4, 4, 5, 6, 7, 8, 8, 12, 12, 12]"
      ]
     },
     "execution_count": 26,
     "metadata": {},
     "output_type": "execute_result"
    }
   ],
   "source": [
    "list3.sort()\n",
    "list3"
   ]
  },
  {
   "cell_type": "code",
   "execution_count": 27,
   "id": "competitive-customer",
   "metadata": {},
   "outputs": [
    {
     "data": {
      "text/plain": [
       "[12, 12, 12, 8, 8, 7, 6, 5, 4, 4]"
      ]
     },
     "execution_count": 27,
     "metadata": {},
     "output_type": "execute_result"
    }
   ],
   "source": [
    "list3.reverse()\n",
    "list3"
   ]
  },
  {
   "cell_type": "code",
   "execution_count": 28,
   "id": "roman-jungle",
   "metadata": {},
   "outputs": [
    {
     "data": {
      "text/plain": [
       "[12, 12, 12, 8, 8, 7, 6, 5, 4, 4]"
      ]
     },
     "execution_count": 28,
     "metadata": {},
     "output_type": "execute_result"
    }
   ],
   "source": [
    "list2 = list3\n",
    "list2\n"
   ]
  },
  {
   "cell_type": "code",
   "execution_count": 29,
   "id": "worst-toner",
   "metadata": {},
   "outputs": [],
   "source": [
    "list3.remove(7)"
   ]
  },
  {
   "cell_type": "code",
   "execution_count": 30,
   "id": "painted-macintosh",
   "metadata": {},
   "outputs": [
    {
     "data": {
      "text/plain": [
       "[12, 12, 12, 8, 8, 6, 5, 4, 4]"
      ]
     },
     "execution_count": 30,
     "metadata": {},
     "output_type": "execute_result"
    }
   ],
   "source": [
    "list2"
   ]
  },
  {
   "cell_type": "code",
   "execution_count": 31,
   "id": "level-individual",
   "metadata": {},
   "outputs": [],
   "source": [
    "list2 = list3.copy()"
   ]
  },
  {
   "cell_type": "code",
   "execution_count": 34,
   "id": "ideal-tongue",
   "metadata": {},
   "outputs": [
    {
     "data": {
      "text/plain": [
       "[12, 12, 12, 8, 8, 6, 5, 4, 4]"
      ]
     },
     "execution_count": 34,
     "metadata": {},
     "output_type": "execute_result"
    }
   ],
   "source": [
    "list2"
   ]
  },
  {
   "cell_type": "code",
   "execution_count": 33,
   "id": "solar-cleanup",
   "metadata": {},
   "outputs": [
    {
     "data": {
      "text/plain": [
       "[12, 12, 12, 8, 8, 5, 4, 4]"
      ]
     },
     "execution_count": 33,
     "metadata": {},
     "output_type": "execute_result"
    }
   ],
   "source": [
    "list3.remove(6)\n",
    "list3"
   ]
  },
  {
   "cell_type": "code",
   "execution_count": 35,
   "id": "finnish-latin",
   "metadata": {},
   "outputs": [
    {
     "data": {
      "text/plain": [
       "[]"
      ]
     },
     "execution_count": 35,
     "metadata": {},
     "output_type": "execute_result"
    }
   ],
   "source": [
    "list3.clear()\n",
    "list3"
   ]
  },
  {
   "cell_type": "code",
   "execution_count": 38,
   "id": "looking-punishment",
   "metadata": {},
   "outputs": [],
   "source": [
    "list3 = [5,4,7,5,4,5,8,5,6,4,1,4]\n"
   ]
  },
  {
   "cell_type": "code",
   "execution_count": 40,
   "id": "circular-handling",
   "metadata": {},
   "outputs": [
    {
     "data": {
      "text/plain": [
       "1"
      ]
     },
     "execution_count": 40,
     "metadata": {},
     "output_type": "execute_result"
    }
   ],
   "source": [
    "list3[-2]"
   ]
  },
  {
   "cell_type": "code",
   "execution_count": 41,
   "id": "bridal-massachusetts",
   "metadata": {},
   "outputs": [
    {
     "ename": "IndexError",
     "evalue": "list index out of range",
     "output_type": "error",
     "traceback": [
      "\u001b[1;31m---------------------------------------------------------------------------\u001b[0m",
      "\u001b[1;31mIndexError\u001b[0m                                Traceback (most recent call last)",
      "\u001b[1;32m<ipython-input-41-9cd1e2a214d4>\u001b[0m in \u001b[0;36m<module>\u001b[1;34m\u001b[0m\n\u001b[1;32m----> 1\u001b[1;33m \u001b[0mlist3\u001b[0m\u001b[1;33m[\u001b[0m\u001b[1;33m-\u001b[0m\u001b[1;36m15\u001b[0m\u001b[1;33m]\u001b[0m\u001b[1;33m\u001b[0m\u001b[1;33m\u001b[0m\u001b[0m\n\u001b[0m",
      "\u001b[1;31mIndexError\u001b[0m: list index out of range"
     ]
    }
   ],
   "source": [
    "list3[-15]"
   ]
  },
  {
   "cell_type": "code",
   "execution_count": 42,
   "id": "conservative-louisville",
   "metadata": {},
   "outputs": [
    {
     "data": {
      "text/plain": [
       "[7, 5, 4, 5]"
      ]
     },
     "execution_count": 42,
     "metadata": {},
     "output_type": "execute_result"
    }
   ],
   "source": [
    "list3[2:6]"
   ]
  },
  {
   "cell_type": "code",
   "execution_count": 44,
   "id": "blind-demonstration",
   "metadata": {},
   "outputs": [
    {
     "data": {
      "text/plain": [
       "[8, 5, 4, 5]"
      ]
     },
     "execution_count": 44,
     "metadata": {},
     "output_type": "execute_result"
    }
   ],
   "source": [
    "list3[6:2:-1]"
   ]
  },
  {
   "cell_type": "code",
   "execution_count": 45,
   "id": "banned-blocking",
   "metadata": {},
   "outputs": [
    {
     "data": {
      "text/plain": [
       "[4, 5, 5, 5, 4, 4]"
      ]
     },
     "execution_count": 45,
     "metadata": {},
     "output_type": "execute_result"
    }
   ],
   "source": [
    "list3[1::2]"
   ]
  },
  {
   "cell_type": "code",
   "execution_count": 46,
   "id": "formal-secretariat",
   "metadata": {},
   "outputs": [
    {
     "data": {
      "text/plain": [
       "[5, 7, 4]"
      ]
     },
     "execution_count": 46,
     "metadata": {},
     "output_type": "execute_result"
    }
   ],
   "source": [
    "list3[:5:2]"
   ]
  },
  {
   "cell_type": "code",
   "execution_count": 47,
   "id": "tropical-grenada",
   "metadata": {},
   "outputs": [
    {
     "data": {
      "text/plain": [
       "[5, 4, 6]"
      ]
     },
     "execution_count": 47,
     "metadata": {},
     "output_type": "execute_result"
    }
   ],
   "source": [
    "list3[::4]"
   ]
  },
  {
   "cell_type": "code",
   "execution_count": 48,
   "id": "armed-airfare",
   "metadata": {},
   "outputs": [
    {
     "data": {
      "text/plain": [
       "136"
      ]
     },
     "execution_count": 48,
     "metadata": {},
     "output_type": "execute_result"
    }
   ],
   "source": [
    "list3.__sizeof__()"
   ]
  },
  {
   "cell_type": "code",
   "execution_count": 50,
   "id": "ceramic-nancy",
   "metadata": {},
   "outputs": [
    {
     "data": {
      "text/plain": [
       "(5, 4, 7, 5, 4, 5, 8, 5, 6, 4, 1, 4)"
      ]
     },
     "execution_count": 50,
     "metadata": {},
     "output_type": "execute_result"
    }
   ],
   "source": [
    "corteg = (5,4,7,5,4,5,8,5,6,4,1,4)\n",
    "corteg"
   ]
  },
  {
   "cell_type": "code",
   "execution_count": 51,
   "id": "supreme-afghanistan",
   "metadata": {},
   "outputs": [
    {
     "data": {
      "text/plain": [
       "120"
      ]
     },
     "execution_count": 51,
     "metadata": {},
     "output_type": "execute_result"
    }
   ],
   "source": [
    "corteg.__sizeof__()"
   ]
  },
  {
   "cell_type": "code",
   "execution_count": 53,
   "id": "little-adams",
   "metadata": {},
   "outputs": [
    {
     "data": {
      "text/plain": [
       "{}"
      ]
     },
     "execution_count": 53,
     "metadata": {},
     "output_type": "execute_result"
    }
   ],
   "source": [
    "dictionary = {}\n",
    "dictionary"
   ]
  },
  {
   "cell_type": "code",
   "execution_count": 55,
   "id": "composed-miami",
   "metadata": {},
   "outputs": [
    {
     "data": {
      "text/plain": [
       "{'Знач': 123}"
      ]
     },
     "execution_count": 55,
     "metadata": {},
     "output_type": "execute_result"
    }
   ],
   "source": [
    "dictionary[\"Знач\"] = 123\n",
    "dictionary"
   ]
  },
  {
   "cell_type": "code",
   "execution_count": 56,
   "id": "central-collapse",
   "metadata": {},
   "outputs": [
    {
     "data": {
      "text/plain": [
       "{'Знач': 55}"
      ]
     },
     "execution_count": 56,
     "metadata": {},
     "output_type": "execute_result"
    }
   ],
   "source": [
    "dictionary[\"Знач\"] = 55\n",
    "dictionary"
   ]
  },
  {
   "cell_type": "code",
   "execution_count": 57,
   "id": "innocent-despite",
   "metadata": {},
   "outputs": [
    {
     "data": {
      "text/plain": [
       "{'Знач': 55, 'Знач2': 448}"
      ]
     },
     "execution_count": 57,
     "metadata": {},
     "output_type": "execute_result"
    }
   ],
   "source": [
    "dictionary[\"Знач2\"] = 448\n",
    "dictionary"
   ]
  },
  {
   "cell_type": "code",
   "execution_count": 58,
   "id": "unexpected-eight",
   "metadata": {},
   "outputs": [
    {
     "data": {
      "text/plain": [
       "{'Знач': 55, 'Знач2': 448, 'Знач3': 'asda'}"
      ]
     },
     "execution_count": 58,
     "metadata": {},
     "output_type": "execute_result"
    }
   ],
   "source": [
    "dictionary[\"Знач3\"] = \"asda\"\n",
    "dictionary"
   ]
  },
  {
   "cell_type": "code",
   "execution_count": 59,
   "id": "exterior-compromise",
   "metadata": {},
   "outputs": [
    {
     "data": {
      "text/plain": [
       "{'Знач': 55, 'Знач2': 448, 'Знач3': 'asda', 'Кортеж': (5, 4, 6, 87)}"
      ]
     },
     "execution_count": 59,
     "metadata": {},
     "output_type": "execute_result"
    }
   ],
   "source": [
    "dictionary[\"Кортеж\"] = (5,4,6,87)\n",
    "dictionary"
   ]
  },
  {
   "cell_type": "code",
   "execution_count": 60,
   "id": "answering-schema",
   "metadata": {},
   "outputs": [
    {
     "data": {
      "text/plain": [
       "(5, 4, 6, 87)"
      ]
     },
     "execution_count": 60,
     "metadata": {},
     "output_type": "execute_result"
    }
   ],
   "source": [
    "dictionary[\"Кортеж\"] "
   ]
  },
  {
   "cell_type": "code",
   "execution_count": 61,
   "id": "assisted-beauty",
   "metadata": {},
   "outputs": [
    {
     "ename": "KeyError",
     "evalue": "1",
     "output_type": "error",
     "traceback": [
      "\u001b[1;31m---------------------------------------------------------------------------\u001b[0m",
      "\u001b[1;31mKeyError\u001b[0m                                  Traceback (most recent call last)",
      "\u001b[1;32m<ipython-input-61-69b2681cc690>\u001b[0m in \u001b[0;36m<module>\u001b[1;34m\u001b[0m\n\u001b[1;32m----> 1\u001b[1;33m \u001b[0mdictionary\u001b[0m\u001b[1;33m[\u001b[0m\u001b[1;36m1\u001b[0m\u001b[1;33m]\u001b[0m\u001b[1;33m\u001b[0m\u001b[1;33m\u001b[0m\u001b[0m\n\u001b[0m",
      "\u001b[1;31mKeyError\u001b[0m: 1"
     ]
    }
   ],
   "source": [
    "dictionary[1] "
   ]
  },
  {
   "cell_type": "code",
   "execution_count": 64,
   "id": "proved-binary",
   "metadata": {},
   "outputs": [
    {
     "data": {
      "text/plain": [
       "{'a': 0, 'b': 0, 'c': 0, 'd': 0, 'e': 0, 'f': 0, 'g': 0}"
      ]
     },
     "execution_count": 64,
     "metadata": {},
     "output_type": "execute_result"
    }
   ],
   "source": [
    "dictionary2 = {keys:0 for keys in 'abcdefg' }\n",
    "dictionary2"
   ]
  },
  {
   "cell_type": "code",
   "execution_count": 65,
   "id": "approved-cradle",
   "metadata": {},
   "outputs": [
    {
     "data": {
      "text/plain": [
       "dict_items([('a', 0), ('b', 0), ('c', 0), ('d', 0), ('e', 0), ('f', 0), ('g', 0)])"
      ]
     },
     "execution_count": 65,
     "metadata": {},
     "output_type": "execute_result"
    }
   ],
   "source": [
    "dictionary2.items()"
   ]
  },
  {
   "cell_type": "code",
   "execution_count": 66,
   "id": "better-bikini",
   "metadata": {},
   "outputs": [
    {
     "data": {
      "text/plain": [
       "dict_keys(['a', 'b', 'c', 'd', 'e', 'f', 'g'])"
      ]
     },
     "execution_count": 66,
     "metadata": {},
     "output_type": "execute_result"
    }
   ],
   "source": [
    "dictionary2.keys()"
   ]
  },
  {
   "cell_type": "code",
   "execution_count": 68,
   "id": "catholic-fountain",
   "metadata": {},
   "outputs": [
    {
     "data": {
      "text/plain": [
       "{'a': 0, 'b': 15, 'c': 0, 'd': 0, 'e': 0, 'f': 0, 'g': 0, 'i': 48}"
      ]
     },
     "execution_count": 68,
     "metadata": {},
     "output_type": "execute_result"
    }
   ],
   "source": [
    "dictionary2.update([('b',15),('i',48)])\n",
    "dictionary2"
   ]
  },
  {
   "cell_type": "code",
   "execution_count": 70,
   "id": "respiratory-terrace",
   "metadata": {},
   "outputs": [
    {
     "data": {
      "text/plain": [
       "dict_values([0, 15, 0, 0, 0, 0, 0, 48])"
      ]
     },
     "execution_count": 70,
     "metadata": {},
     "output_type": "execute_result"
    }
   ],
   "source": [
    "dictionary2.values()"
   ]
  },
  {
   "cell_type": "code",
   "execution_count": 73,
   "id": "declared-postcard",
   "metadata": {},
   "outputs": [],
   "source": [
    "corteg = tuple(list3)"
   ]
  },
  {
   "cell_type": "code",
   "execution_count": 74,
   "id": "roman-cancellation",
   "metadata": {},
   "outputs": [
    {
     "data": {
      "text/plain": [
       "(5, 4, 7, 5, 4, 5, 8, 5, 6, 4, 1, 4)"
      ]
     },
     "execution_count": 74,
     "metadata": {},
     "output_type": "execute_result"
    }
   ],
   "source": [
    "corteg"
   ]
  },
  {
   "cell_type": "code",
   "execution_count": 75,
   "id": "fewer-aquatic",
   "metadata": {},
   "outputs": [],
   "source": [
    "a = 5\n",
    "b = 7\n"
   ]
  },
  {
   "cell_type": "code",
   "execution_count": 76,
   "id": "positive-thermal",
   "metadata": {},
   "outputs": [
    {
     "name": "stdout",
     "output_type": "stream",
     "text": [
      "7\n",
      "5\n"
     ]
    }
   ],
   "source": [
    "a , b = b , a\n",
    "print(a)\n",
    "print(b)\n",
    "\n"
   ]
  },
  {
   "cell_type": "code",
   "execution_count": null,
   "id": "opened-filling",
   "metadata": {},
   "outputs": [],
   "source": []
  }
 ],
 "metadata": {
  "kernelspec": {
   "display_name": "Python 3",
   "language": "python",
   "name": "python3"
  },
  "language_info": {
   "codemirror_mode": {
    "name": "ipython",
    "version": 3
   },
   "file_extension": ".py",
   "mimetype": "text/x-python",
   "name": "python",
   "nbconvert_exporter": "python",
   "pygments_lexer": "ipython3",
   "version": "3.7.8"
  }
 },
 "nbformat": 4,
 "nbformat_minor": 5
}
