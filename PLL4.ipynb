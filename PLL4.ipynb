{
 "cells": [
  {
   "cell_type": "code",
   "execution_count": 1,
   "id": "sticky-there",
   "metadata": {},
   "outputs": [
    {
     "data": {
      "text/plain": [
       "set()"
      ]
     },
     "execution_count": 1,
     "metadata": {},
     "output_type": "execute_result"
    }
   ],
   "source": [
    "multy = set()\n",
    "multy"
   ]
  },
  {
   "cell_type": "code",
   "execution_count": 3,
   "id": "swedish-chicken",
   "metadata": {},
   "outputs": [
    {
     "data": {
      "text/plain": [
       "{' ', 'B', 'H', 'I', 'S', 'e', 'l', 'o'}"
      ]
     },
     "execution_count": 3,
     "metadata": {},
     "output_type": "execute_result"
    }
   ],
   "source": [
    "multy = set('Hello IBS')\n",
    "multy"
   ]
  },
  {
   "cell_type": "code",
   "execution_count": 4,
   "id": "apart-knight",
   "metadata": {},
   "outputs": [
    {
     "data": {
      "text/plain": [
       "8"
      ]
     },
     "execution_count": 4,
     "metadata": {},
     "output_type": "execute_result"
    }
   ],
   "source": [
    "len(multy)"
   ]
  },
  {
   "cell_type": "code",
   "execution_count": 5,
   "id": "final-shakespeare",
   "metadata": {},
   "outputs": [
    {
     "data": {
      "text/plain": [
       "9"
      ]
     },
     "execution_count": 5,
     "metadata": {},
     "output_type": "execute_result"
    }
   ],
   "source": [
    "len('Hello IBS')"
   ]
  },
  {
   "cell_type": "code",
   "execution_count": 6,
   "id": "coordinate-tattoo",
   "metadata": {},
   "outputs": [
    {
     "data": {
      "text/plain": [
       "{0,\n",
       " 1,\n",
       " 4,\n",
       " 9,\n",
       " 16,\n",
       " 25,\n",
       " 36,\n",
       " 49,\n",
       " 64,\n",
       " 81,\n",
       " 100,\n",
       " 121,\n",
       " 144,\n",
       " 169,\n",
       " 196,\n",
       " 225,\n",
       " 256,\n",
       " 289,\n",
       " 324,\n",
       " 361}"
      ]
     },
     "execution_count": 6,
     "metadata": {},
     "output_type": "execute_result"
    }
   ],
   "source": [
    "multy = {i**2 for i in range(20)}\n",
    "multy"
   ]
  },
  {
   "cell_type": "code",
   "execution_count": 7,
   "id": "distinct-postage",
   "metadata": {},
   "outputs": [
    {
     "data": {
      "text/plain": [
       "set"
      ]
     },
     "execution_count": 7,
     "metadata": {},
     "output_type": "execute_result"
    }
   ],
   "source": [
    "type(multy)"
   ]
  },
  {
   "cell_type": "code",
   "execution_count": 8,
   "id": "institutional-colonial",
   "metadata": {},
   "outputs": [
    {
     "data": {
      "text/plain": [
       "['Привет', 'ИБС', 'Привет', 'ПИЖ']"
      ]
     },
     "execution_count": 8,
     "metadata": {},
     "output_type": "execute_result"
    }
   ],
   "source": [
    "words = [\"Привет\", \"ИБС\",\"Привет\",\"ПИЖ\"]\n",
    "words"
   ]
  },
  {
   "cell_type": "code",
   "execution_count": 9,
   "id": "alternative-exemption",
   "metadata": {},
   "outputs": [
    {
     "data": {
      "text/plain": [
       "{'ИБС', 'ПИЖ', 'Привет'}"
      ]
     },
     "execution_count": 9,
     "metadata": {},
     "output_type": "execute_result"
    }
   ],
   "source": [
    "set(words)"
   ]
  },
  {
   "cell_type": "code",
   "execution_count": 37,
   "id": "defensive-atlanta",
   "metadata": {},
   "outputs": [
    {
     "name": "stdout",
     "output_type": "stream",
     "text": [
      "{0, 1, 4, 9, 16}\n",
      "{0, 1, 4}\n"
     ]
    }
   ],
   "source": [
    "multy = {i**2 for i in range(5)}\n",
    "multy2 = {i**2 for i in range(3)}\n",
    "print(multy)\n",
    "print(multy2)"
   ]
  },
  {
   "cell_type": "code",
   "execution_count": 17,
   "id": "resistant-bulgaria",
   "metadata": {},
   "outputs": [
    {
     "data": {
      "text/plain": [
       "True"
      ]
     },
     "execution_count": 17,
     "metadata": {},
     "output_type": "execute_result"
    }
   ],
   "source": [
    "4 in multy2"
   ]
  },
  {
   "cell_type": "code",
   "execution_count": 18,
   "id": "particular-edgar",
   "metadata": {},
   "outputs": [
    {
     "data": {
      "text/plain": [
       "False"
      ]
     },
     "execution_count": 18,
     "metadata": {},
     "output_type": "execute_result"
    }
   ],
   "source": [
    "multy2.isdisjoint(multy)"
   ]
  },
  {
   "cell_type": "code",
   "execution_count": 27,
   "id": "decimal-kansas",
   "metadata": {},
   "outputs": [
    {
     "data": {
      "text/plain": [
       "{25, 36, 49, 64, 81}"
      ]
     },
     "execution_count": 27,
     "metadata": {},
     "output_type": "execute_result"
    }
   ],
   "source": [
    "multy3 = {i**2 for i in range(5,10)}\n",
    "multy3"
   ]
  },
  {
   "cell_type": "code",
   "execution_count": 28,
   "id": "engaging-mechanics",
   "metadata": {},
   "outputs": [
    {
     "data": {
      "text/plain": [
       "True"
      ]
     },
     "execution_count": 28,
     "metadata": {},
     "output_type": "execute_result"
    }
   ],
   "source": [
    "multy.isdisjoint(multy3)"
   ]
  },
  {
   "cell_type": "code",
   "execution_count": 29,
   "id": "fuzzy-rates",
   "metadata": {},
   "outputs": [
    {
     "data": {
      "text/plain": [
       "False"
      ]
     },
     "execution_count": 29,
     "metadata": {},
     "output_type": "execute_result"
    }
   ],
   "source": [
    "multy2 == multy"
   ]
  },
  {
   "cell_type": "code",
   "execution_count": 30,
   "id": "communist-swedish",
   "metadata": {},
   "outputs": [
    {
     "data": {
      "text/plain": [
       "{0, 1, 4}"
      ]
     },
     "execution_count": 30,
     "metadata": {},
     "output_type": "execute_result"
    }
   ],
   "source": [
    "multy4 = {i**2 for i in range(3)}\n",
    "multy4"
   ]
  },
  {
   "cell_type": "code",
   "execution_count": 31,
   "id": "manufactured-penalty",
   "metadata": {},
   "outputs": [
    {
     "data": {
      "text/plain": [
       "True"
      ]
     },
     "execution_count": 31,
     "metadata": {},
     "output_type": "execute_result"
    }
   ],
   "source": [
    "multy2 == multy4"
   ]
  },
  {
   "cell_type": "code",
   "execution_count": 34,
   "id": "binding-fortune",
   "metadata": {},
   "outputs": [
    {
     "data": {
      "text/plain": [
       "True"
      ]
     },
     "execution_count": 34,
     "metadata": {},
     "output_type": "execute_result"
    }
   ],
   "source": [
    "multy2.issubset(multy)"
   ]
  },
  {
   "cell_type": "code",
   "execution_count": 36,
   "id": "cloudy-toyota",
   "metadata": {},
   "outputs": [
    {
     "data": {
      "text/plain": [
       "True"
      ]
     },
     "execution_count": 36,
     "metadata": {},
     "output_type": "execute_result"
    }
   ],
   "source": [
    "multy.issuperset(multy2)"
   ]
  },
  {
   "cell_type": "code",
   "execution_count": 39,
   "id": "dated-floating",
   "metadata": {},
   "outputs": [
    {
     "data": {
      "text/plain": [
       "{9, 16, 25, 36, 49, 64, 81, 100, 121}"
      ]
     },
     "execution_count": 39,
     "metadata": {},
     "output_type": "execute_result"
    }
   ],
   "source": [
    "multy5 = {i**2 for i in range(3,12)}\n",
    "multy5"
   ]
  },
  {
   "cell_type": "code",
   "execution_count": 47,
   "id": "surprising-remains",
   "metadata": {},
   "outputs": [
    {
     "data": {
      "text/plain": [
       "{0, 1, 4, 9, 16, 25, 36, 49, 64, 81, 100, 121}"
      ]
     },
     "execution_count": 47,
     "metadata": {},
     "output_type": "execute_result"
    }
   ],
   "source": [
    "unionSet = multy5.union(multy)\n",
    "unionSet"
   ]
  },
  {
   "cell_type": "code",
   "execution_count": 48,
   "id": "nutritional-journal",
   "metadata": {},
   "outputs": [
    {
     "data": {
      "text/plain": [
       "{9, 16}"
      ]
     },
     "execution_count": 48,
     "metadata": {},
     "output_type": "execute_result"
    }
   ],
   "source": [
    "intersectionSet = multy5.intersection(multy)\n",
    "intersectionSet"
   ]
  },
  {
   "cell_type": "code",
   "execution_count": 50,
   "id": "unnecessary-margin",
   "metadata": {},
   "outputs": [
    {
     "data": {
      "text/plain": [
       "{25, 36, 49, 64, 81, 100, 121}"
      ]
     },
     "execution_count": 50,
     "metadata": {},
     "output_type": "execute_result"
    }
   ],
   "source": [
    "differenceSet = multy5.difference(multy)\n",
    "differenceSet"
   ]
  },
  {
   "cell_type": "code",
   "execution_count": 51,
   "id": "simple-gilbert",
   "metadata": {},
   "outputs": [
    {
     "data": {
      "text/plain": [
       "{0, 1, 4, 25, 36, 49, 64, 81, 100, 121}"
      ]
     },
     "execution_count": 51,
     "metadata": {},
     "output_type": "execute_result"
    }
   ],
   "source": [
    "\n",
    "symmetric_differenceSet = multy5.symmetric_difference(multy)\n",
    "symmetric_differenceSet"
   ]
  },
  {
   "cell_type": "code",
   "execution_count": 56,
   "id": "stone-australia",
   "metadata": {},
   "outputs": [
    {
     "data": {
      "text/plain": [
       "{0, 1, 4, 25, 36, 49, 64, 81, 100, 121, 50000}"
      ]
     },
     "execution_count": 56,
     "metadata": {},
     "output_type": "execute_result"
    }
   ],
   "source": [
    "test = symmetric_differenceSet.copy()\n",
    "test"
   ]
  },
  {
   "cell_type": "code",
   "execution_count": 57,
   "id": "lucky-sheet",
   "metadata": {},
   "outputs": [
    {
     "data": {
      "text/plain": [
       "{0, 1, 4, 25, 36, 49, 64, 81, 100, 121, 50000, 700000}"
      ]
     },
     "execution_count": 57,
     "metadata": {},
     "output_type": "execute_result"
    }
   ],
   "source": [
    "symmetric_differenceSet.add(700000)\n",
    "symmetric_differenceSet"
   ]
  },
  {
   "cell_type": "code",
   "execution_count": 58,
   "id": "polish-guidance",
   "metadata": {},
   "outputs": [
    {
     "data": {
      "text/plain": [
       "{0, 1, 4, 25, 36, 49, 64, 81, 100, 121, 50000}"
      ]
     },
     "execution_count": 58,
     "metadata": {},
     "output_type": "execute_result"
    }
   ],
   "source": [
    "test"
   ]
  },
  {
   "cell_type": "code",
   "execution_count": 59,
   "id": "superb-symbol",
   "metadata": {},
   "outputs": [
    {
     "data": {
      "text/plain": [
       "{0, 1, 4, 25, 36, 49, 64, 81, 100, 121, 50000}"
      ]
     },
     "execution_count": 59,
     "metadata": {},
     "output_type": "execute_result"
    }
   ],
   "source": [
    "symmetric_differenceSet.remove(700000)\n",
    "symmetric_differenceSet"
   ]
  },
  {
   "cell_type": "code",
   "execution_count": 60,
   "id": "dressed-milan",
   "metadata": {},
   "outputs": [
    {
     "ename": "KeyError",
     "evalue": "700000",
     "output_type": "error",
     "traceback": [
      "\u001b[1;31m---------------------------------------------------------------------------\u001b[0m",
      "\u001b[1;31mKeyError\u001b[0m                                  Traceback (most recent call last)",
      "\u001b[1;32m<ipython-input-60-2730376f45d9>\u001b[0m in \u001b[0;36m<module>\u001b[1;34m\u001b[0m\n\u001b[1;32m----> 1\u001b[1;33m \u001b[0msymmetric_differenceSet\u001b[0m\u001b[1;33m.\u001b[0m\u001b[0mremove\u001b[0m\u001b[1;33m(\u001b[0m\u001b[1;36m700000\u001b[0m\u001b[1;33m)\u001b[0m\u001b[1;33m\u001b[0m\u001b[1;33m\u001b[0m\u001b[0m\n\u001b[0m\u001b[0;32m      2\u001b[0m \u001b[0msymmetric_differenceSet\u001b[0m\u001b[1;33m\u001b[0m\u001b[1;33m\u001b[0m\u001b[0m\n",
      "\u001b[1;31mKeyError\u001b[0m: 700000"
     ]
    }
   ],
   "source": [
    "symmetric_differenceSet.remove(700000)\n",
    "symmetric_differenceSet"
   ]
  },
  {
   "cell_type": "code",
   "execution_count": 61,
   "id": "current-america",
   "metadata": {},
   "outputs": [
    {
     "data": {
      "text/plain": [
       "{0, 1, 4, 25, 36, 49, 64, 81, 100, 121}"
      ]
     },
     "execution_count": 61,
     "metadata": {},
     "output_type": "execute_result"
    }
   ],
   "source": [
    "symmetric_differenceSet.discard(50000)\n",
    "symmetric_differenceSet"
   ]
  },
  {
   "cell_type": "code",
   "execution_count": 62,
   "id": "offshore-rating",
   "metadata": {},
   "outputs": [
    {
     "data": {
      "text/plain": [
       "{0, 1, 4, 25, 36, 49, 64, 81, 100, 121}"
      ]
     },
     "execution_count": 62,
     "metadata": {},
     "output_type": "execute_result"
    }
   ],
   "source": [
    "symmetric_differenceSet.discard(50000)\n",
    "symmetric_differenceSet"
   ]
  },
  {
   "cell_type": "code",
   "execution_count": 63,
   "id": "industrial-toilet",
   "metadata": {},
   "outputs": [
    {
     "data": {
      "text/plain": [
       "{1, 4, 25, 36, 49, 64, 81, 100, 121}"
      ]
     },
     "execution_count": 63,
     "metadata": {},
     "output_type": "execute_result"
    }
   ],
   "source": [
    "symmetric_differenceSet.pop()\n",
    "symmetric_differenceSet"
   ]
  },
  {
   "cell_type": "code",
   "execution_count": 64,
   "id": "lesbian-level",
   "metadata": {},
   "outputs": [
    {
     "data": {
      "text/plain": [
       "set()"
      ]
     },
     "execution_count": 64,
     "metadata": {},
     "output_type": "execute_result"
    }
   ],
   "source": [
    "symmetric_differenceSet.clear()\n",
    "symmetric_differenceSet"
   ]
  },
  {
   "cell_type": "code",
   "execution_count": 70,
   "id": "agreed-angel",
   "metadata": {},
   "outputs": [
    {
     "data": {
      "text/plain": [
       "frozenset({0, 1, 4, 25, 36, 49, 64, 81, 100, 121})"
      ]
     },
     "execution_count": 70,
     "metadata": {},
     "output_type": "execute_result"
    }
   ],
   "source": [
    "frozenSet = frozenset({0, 1, 4, 25, 36, 49, 64, 81, 100, 121}) \n",
    "frozenSet"
   ]
  },
  {
   "cell_type": "code",
   "execution_count": 72,
   "id": "perfect-style",
   "metadata": {},
   "outputs": [
    {
     "ename": "AttributeError",
     "evalue": "'frozenset' object has no attribute 'add'",
     "output_type": "error",
     "traceback": [
      "\u001b[1;31m---------------------------------------------------------------------------\u001b[0m",
      "\u001b[1;31mAttributeError\u001b[0m                            Traceback (most recent call last)",
      "\u001b[1;32m<ipython-input-72-f6e758430531>\u001b[0m in \u001b[0;36m<module>\u001b[1;34m\u001b[0m\n\u001b[1;32m----> 1\u001b[1;33m \u001b[0mfrozenSet\u001b[0m\u001b[1;33m.\u001b[0m\u001b[0madd\u001b[0m\u001b[1;33m(\u001b[0m\u001b[1;36m1\u001b[0m\u001b[1;33m)\u001b[0m\u001b[1;33m\u001b[0m\u001b[1;33m\u001b[0m\u001b[0m\n\u001b[0m\u001b[0;32m      2\u001b[0m \u001b[0mfrozenSet\u001b[0m\u001b[1;33m\u001b[0m\u001b[1;33m\u001b[0m\u001b[0m\n",
      "\u001b[1;31mAttributeError\u001b[0m: 'frozenset' object has no attribute 'add'"
     ]
    }
   ],
   "source": [
    "frozenSet.add(1)\n",
    "frozenSet"
   ]
  },
  {
   "cell_type": "code",
   "execution_count": 73,
   "id": "automatic-oklahoma",
   "metadata": {},
   "outputs": [],
   "source": [
    "def add(x,y):\n",
    "    return x + y +5\n"
   ]
  },
  {
   "cell_type": "code",
   "execution_count": 74,
   "id": "adult-mills",
   "metadata": {},
   "outputs": [
    {
     "data": {
      "text/plain": [
       "17"
      ]
     },
     "execution_count": 74,
     "metadata": {},
     "output_type": "execute_result"
    }
   ],
   "source": [
    "add(5,7)"
   ]
  },
  {
   "cell_type": "code",
   "execution_count": 75,
   "id": "smooth-induction",
   "metadata": {},
   "outputs": [
    {
     "data": {
      "text/plain": [
       "60"
      ]
     },
     "execution_count": 75,
     "metadata": {},
     "output_type": "execute_result"
    }
   ],
   "source": [
    "add(5,50)"
   ]
  },
  {
   "cell_type": "code",
   "execution_count": 83,
   "id": "catholic-enforcement",
   "metadata": {},
   "outputs": [],
   "source": [
    "def printArray(array, elementInRow = 5):\n",
    "    line = \"\"\n",
    "    i = 0\n",
    "    for element in array:\n",
    "        line += str(element) + \"\\t\"\n",
    "        i+=1\n",
    "        if (i % elementInRow == 0):\n",
    "            print(line)\n",
    "            line = \"\"\n"
   ]
  },
  {
   "cell_type": "code",
   "execution_count": 81,
   "id": "realistic-measurement",
   "metadata": {},
   "outputs": [
    {
     "name": "stdout",
     "output_type": "stream",
     "text": [
      "П\tр\t\n",
      "и\tв\t\n",
      "е\tт\t\n",
      " \tИ\t\n",
      "Б\tС\t\n"
     ]
    }
   ],
   "source": [
    "printArray(\"Привет ИБС\", 2)\n"
   ]
  },
  {
   "cell_type": "code",
   "execution_count": 79,
   "id": "empirical-chase",
   "metadata": {},
   "outputs": [
    {
     "name": "stdout",
     "output_type": "stream",
     "text": [
      "П\tр\t\n",
      "и\tв\t\n",
      "е\tт\t\n",
      " \tИ\t\n",
      "Б\tС\t\n",
      "None\n"
     ]
    }
   ],
   "source": [
    "print(printArray(\"Привет ИБС\", 2))"
   ]
  },
  {
   "cell_type": "code",
   "execution_count": 84,
   "id": "strong-trailer",
   "metadata": {},
   "outputs": [
    {
     "name": "stdout",
     "output_type": "stream",
     "text": [
      "5\t6\t7\t8\t9\t\n",
      "10\t11\t12\t13\t14\t\n",
      "15\t16\t17\t18\t19\t\n",
      "20\t21\t22\t23\t24\t\n",
      "25\t26\t27\t28\t29\t\n",
      "30\t31\t32\t33\t34\t\n",
      "35\t36\t37\t38\t39\t\n",
      "40\t41\t42\t43\t44\t\n",
      "45\t46\t47\t48\t49\t\n",
      "50\t51\t52\t53\t54\t\n",
      "55\t56\t57\t58\t59\t\n",
      "60\t61\t62\t63\t64\t\n",
      "65\t66\t67\t68\t69\t\n",
      "70\t71\t72\t73\t74\t\n",
      "75\t76\t77\t78\t79\t\n"
     ]
    }
   ],
   "source": [
    "printArray(range(5,80))"
   ]
  },
  {
   "cell_type": "code",
   "execution_count": 85,
   "id": "aware-liverpool",
   "metadata": {},
   "outputs": [
    {
     "name": "stdout",
     "output_type": "stream",
     "text": [
      "5\t6\t7\t8\t9\t10\t11\t12\t13\t14\t\n",
      "15\t16\t17\t18\t19\t20\t21\t22\t23\t24\t\n",
      "25\t26\t27\t28\t29\t30\t31\t32\t33\t34\t\n",
      "35\t36\t37\t38\t39\t40\t41\t42\t43\t44\t\n",
      "45\t46\t47\t48\t49\t50\t51\t52\t53\t54\t\n",
      "55\t56\t57\t58\t59\t60\t61\t62\t63\t64\t\n",
      "65\t66\t67\t68\t69\t70\t71\t72\t73\t74\t\n"
     ]
    }
   ],
   "source": [
    "printArray(range(5,80),10)"
   ]
  },
  {
   "cell_type": "code",
   "execution_count": 86,
   "id": "standard-split",
   "metadata": {},
   "outputs": [],
   "source": [
    "def randomArgs(*args):\n",
    "    print(args)"
   ]
  },
  {
   "cell_type": "code",
   "execution_count": 87,
   "id": "wrong-israeli",
   "metadata": {},
   "outputs": [
    {
     "name": "stdout",
     "output_type": "stream",
     "text": [
      "(4, 5, 6, 7, 8, 5, 4, 56)\n"
     ]
    }
   ],
   "source": [
    "randomArgs(4,5,6,7,8,5,4,56)"
   ]
  },
  {
   "cell_type": "code",
   "execution_count": 88,
   "id": "certified-operation",
   "metadata": {},
   "outputs": [],
   "source": [
    "def randomArgsDictionary(**args):\n",
    "    print(args)"
   ]
  },
  {
   "cell_type": "code",
   "execution_count": 89,
   "id": "secondary-redhead",
   "metadata": {},
   "outputs": [
    {
     "name": "stdout",
     "output_type": "stream",
     "text": [
      "{'d': 45, 'u': 75, 'e': 777, 'r': 56}\n"
     ]
    }
   ],
   "source": [
    "randomArgsDictionary(d=45,u=75,e=777,r=56)"
   ]
  },
  {
   "cell_type": "code",
   "execution_count": 90,
   "id": "controlling-elephant",
   "metadata": {},
   "outputs": [],
   "source": [
    "func = lambda x,y: x ** y\n"
   ]
  },
  {
   "cell_type": "code",
   "execution_count": 91,
   "id": "structural-poster",
   "metadata": {},
   "outputs": [
    {
     "data": {
      "text/plain": [
       "256"
      ]
     },
     "execution_count": 91,
     "metadata": {},
     "output_type": "execute_result"
    }
   ],
   "source": [
    "func(2,8)\n"
   ]
  },
  {
   "cell_type": "code",
   "execution_count": 92,
   "id": "treated-italian",
   "metadata": {},
   "outputs": [
    {
     "ename": "ZeroDivisionError",
     "evalue": "division by zero",
     "output_type": "error",
     "traceback": [
      "\u001b[1;31m---------------------------------------------------------------------------\u001b[0m",
      "\u001b[1;31mZeroDivisionError\u001b[0m                         Traceback (most recent call last)",
      "\u001b[1;32m<ipython-input-92-e9e866a10e2a>\u001b[0m in \u001b[0;36m<module>\u001b[1;34m\u001b[0m\n\u001b[1;32m----> 1\u001b[1;33m \u001b[1;36m100\u001b[0m \u001b[1;33m/\u001b[0m \u001b[1;36m0\u001b[0m\u001b[1;33m\u001b[0m\u001b[1;33m\u001b[0m\u001b[0m\n\u001b[0m",
      "\u001b[1;31mZeroDivisionError\u001b[0m: division by zero"
     ]
    }
   ],
   "source": [
    "100 / 0"
   ]
  },
  {
   "cell_type": "code",
   "execution_count": 93,
   "id": "local-prophet",
   "metadata": {},
   "outputs": [
    {
     "ename": "IndexError",
     "evalue": "list index out of range",
     "output_type": "error",
     "traceback": [
      "\u001b[1;31m---------------------------------------------------------------------------\u001b[0m",
      "\u001b[1;31mIndexError\u001b[0m                                Traceback (most recent call last)",
      "\u001b[1;32m<ipython-input-93-9d0341c18195>\u001b[0m in \u001b[0;36m<module>\u001b[1;34m\u001b[0m\n\u001b[0;32m      1\u001b[0m \u001b[0marrayOfNumbers\u001b[0m \u001b[1;33m=\u001b[0m \u001b[1;33m[\u001b[0m\u001b[1;36m0\u001b[0m\u001b[1;33m,\u001b[0m\u001b[1;36m1\u001b[0m\u001b[1;33m,\u001b[0m\u001b[1;36m5\u001b[0m\u001b[1;33m,\u001b[0m\u001b[1;36m4\u001b[0m\u001b[1;33m,\u001b[0m\u001b[1;36m8\u001b[0m\u001b[1;33m,\u001b[0m\u001b[1;36m4\u001b[0m\u001b[1;33m]\u001b[0m\u001b[1;33m\u001b[0m\u001b[1;33m\u001b[0m\u001b[0m\n\u001b[1;32m----> 2\u001b[1;33m \u001b[0marrayOfNumbers\u001b[0m\u001b[1;33m[\u001b[0m\u001b[1;36m50\u001b[0m\u001b[1;33m]\u001b[0m\u001b[1;33m\u001b[0m\u001b[1;33m\u001b[0m\u001b[0m\n\u001b[0m",
      "\u001b[1;31mIndexError\u001b[0m: list index out of range"
     ]
    }
   ],
   "source": [
    "arrayOfNumbers = [0,1,5,4,8,4]\n",
    "arrayOfNumbers[50]"
   ]
  },
  {
   "cell_type": "code",
   "execution_count": 94,
   "id": "found-syria",
   "metadata": {},
   "outputs": [
    {
     "name": "stdout",
     "output_type": "stream",
     "text": [
      "Не дели на ноль\n"
     ]
    }
   ],
   "source": [
    "try:\n",
    "    100 / 0\n",
    "except ZeroDivisionError:\n",
    "    print(\"Не дели на ноль\")"
   ]
  },
  {
   "cell_type": "code",
   "execution_count": 97,
   "id": "intensive-delaware",
   "metadata": {},
   "outputs": [
    {
     "name": "stdout",
     "output_type": "stream",
     "text": [
      "Не дели на ноль\n"
     ]
    }
   ],
   "source": [
    "number1 = 100\n",
    "number2 = 0\n",
    "\n",
    "try:\n",
    "    number1 = number1 / number2\n",
    "except ZeroDivisionError:\n",
    "    print(\"Не дели на ноль\")"
   ]
  },
  {
   "cell_type": "code",
   "execution_count": 101,
   "id": "brutal-strand",
   "metadata": {},
   "outputs": [
    {
     "name": "stdout",
     "output_type": "stream",
     "text": [
      "Не дели на ноль\n"
     ]
    }
   ],
   "source": [
    "index = 50\n",
    "try:\n",
    "    100 / 0\n",
    "    arrayOfNumbers[index]\n",
    "except IndexError:\n",
    "    print(\"Слишком большой элемент в индексе \" + str(index))  \n",
    "except ZeroDivisionError:\n",
    "    print(\"Не дели на ноль\")    "
   ]
  },
  {
   "cell_type": "code",
   "execution_count": 102,
   "id": "crucial-delight",
   "metadata": {},
   "outputs": [
    {
     "name": "stdout",
     "output_type": "stream",
     "text": [
      "Слишком большой элемент в индексе 50\n"
     ]
    }
   ],
   "source": [
    "index = 50\n",
    "try:\n",
    "    100 / 0\n",
    "    arrayOfNumbers[index]\n",
    "except :\n",
    "    print(\"Слишком большой элемент в индексе \" + str(index))  "
   ]
  },
  {
   "cell_type": "code",
   "execution_count": null,
   "id": "under-yemen",
   "metadata": {},
   "outputs": [],
   "source": []
  }
 ],
 "metadata": {
  "kernelspec": {
   "display_name": "Python 3",
   "language": "python",
   "name": "python3"
  },
  "language_info": {
   "codemirror_mode": {
    "name": "ipython",
    "version": 3
   },
   "file_extension": ".py",
   "mimetype": "text/x-python",
   "name": "python",
   "nbconvert_exporter": "python",
   "pygments_lexer": "ipython3",
   "version": "3.7.8"
  }
 },
 "nbformat": 4,
 "nbformat_minor": 5
}
