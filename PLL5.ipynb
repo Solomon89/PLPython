{
 "cells": [
  {
   "cell_type": "code",
   "execution_count": 23,
   "id": "killing-fields",
   "metadata": {},
   "outputs": [
    {
     "name": "stdout",
     "output_type": "stream",
     "text": [
      "<_io.TextIOWrapper name='data.txt' mode='r' encoding='cp1251'>\n"
     ]
    }
   ],
   "source": [
    "f = open(\"data.txt\",\"r\")\n",
    "print(f)"
   ]
  },
  {
   "cell_type": "code",
   "execution_count": 18,
   "id": "equivalent-prairie",
   "metadata": {},
   "outputs": [
    {
     "name": "stdout",
     "output_type": "stream",
     "text": [
      "1 2 3 4 5 6 7 8 \n",
      "5 6\n",
      "7\n",
      "9\n"
     ]
    }
   ],
   "source": [
    "print(f.read())"
   ]
  },
  {
   "cell_type": "code",
   "execution_count": 16,
   "id": "iraqi-chicken",
   "metadata": {},
   "outputs": [
    {
     "data": {
      "text/plain": [
       "'1 2 3 4 5 '"
      ]
     },
     "execution_count": 16,
     "metadata": {},
     "output_type": "execute_result"
    }
   ],
   "source": [
    "f.read(10)"
   ]
  },
  {
   "cell_type": "code",
   "execution_count": 24,
   "id": "governmental-arrest",
   "metadata": {},
   "outputs": [
    {
     "name": "stdout",
     "output_type": "stream",
     "text": [
      "0:1 2 3 4 5 6 7 8 \n",
      "\n",
      "1:5 6\n",
      "\n",
      "2:7\n",
      "\n",
      "3:9\n"
     ]
    }
   ],
   "source": [
    "index = 0\n",
    "for line in f:\n",
    "    print(str(index) + \":\"+line)\n",
    "    index+=1"
   ]
  },
  {
   "cell_type": "code",
   "execution_count": 31,
   "id": "nearby-grounds",
   "metadata": {},
   "outputs": [
    {
     "data": {
      "text/plain": [
       "[4,\n",
       " 9,\n",
       " 16,\n",
       " 16,\n",
       " 25,\n",
       " 36,\n",
       " 49,\n",
       " 64,\n",
       " 64,\n",
       " 81,\n",
       " 81,\n",
       " 256,\n",
       " 625,\n",
       " 729,\n",
       " 1296,\n",
       " 2401,\n",
       " 4096,\n",
       " 4096,\n",
       " 6561,\n",
       " 15625,\n",
       " 46656,\n",
       " 117649,\n",
       " 262144,\n",
       " 531441]"
      ]
     },
     "execution_count": 31,
     "metadata": {},
     "output_type": "execute_result"
    }
   ],
   "source": [
    "array = [i**j for i in range(2,10) for j in range (2,8,2)] \n",
    "array.sort()\n",
    "array"
   ]
  },
  {
   "cell_type": "code",
   "execution_count": 26,
   "id": "digital-raise",
   "metadata": {},
   "outputs": [
    {
     "data": {
      "text/plain": [
       "[1, 2, 3, 4, 5, 6]"
      ]
     },
     "execution_count": 26,
     "metadata": {},
     "output_type": "execute_result"
    }
   ],
   "source": [
    "[i for i in range(1,7) ] "
   ]
  },
  {
   "cell_type": "code",
   "execution_count": 27,
   "id": "smoking-soundtrack",
   "metadata": {},
   "outputs": [
    {
     "data": {
      "text/plain": [
       "[2, 4, 6]"
      ]
     },
     "execution_count": 27,
     "metadata": {},
     "output_type": "execute_result"
    }
   ],
   "source": [
    "[j for j in range (2,8,2)] "
   ]
  },
  {
   "cell_type": "code",
   "execution_count": 33,
   "id": "incredible-clinic",
   "metadata": {},
   "outputs": [
    {
     "data": {
      "text/plain": [
       "24"
      ]
     },
     "execution_count": 33,
     "metadata": {},
     "output_type": "execute_result"
    }
   ],
   "source": [
    "len(array)"
   ]
  },
  {
   "cell_type": "code",
   "execution_count": 55,
   "id": "under-bishop",
   "metadata": {},
   "outputs": [],
   "source": [
    "file = open(\"data2.txt\",\"w\",encoding = \"UTF-8\")\n",
    "index = 0\n",
    "for item in array:\n",
    "    file.write(str(item) + \"\\t\")\n",
    "    if(index % 4 == 0):\n",
    "        file.write(\"\\n\")\n",
    "    index += 1\n"
   ]
  },
  {
   "cell_type": "code",
   "execution_count": 51,
   "id": "celtic-stationery",
   "metadata": {},
   "outputs": [],
   "source": [
    "file.close()"
   ]
  },
  {
   "cell_type": "code",
   "execution_count": 60,
   "id": "alternate-repository",
   "metadata": {},
   "outputs": [],
   "source": [
    "file = open(\"data2.txt\",\"a\",encoding = \"UTF-8\")\n",
    "file.write(\"\\n Дозапись\")\n",
    "file.close()"
   ]
  },
  {
   "cell_type": "code",
   "execution_count": null,
   "id": "negative-least",
   "metadata": {},
   "outputs": [],
   "source": []
  }
 ],
 "metadata": {
  "kernelspec": {
   "display_name": "Python 3",
   "language": "python",
   "name": "python3"
  },
  "language_info": {
   "codemirror_mode": {
    "name": "ipython",
    "version": 3
   },
   "file_extension": ".py",
   "mimetype": "text/x-python",
   "name": "python",
   "nbconvert_exporter": "python",
   "pygments_lexer": "ipython3",
   "version": "3.7.8"
  }
 },
 "nbformat": 4,
 "nbformat_minor": 5
}
