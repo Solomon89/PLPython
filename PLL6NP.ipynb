{
 "cells": [
  {
   "cell_type": "code",
   "execution_count": 6,
   "id": "fabulous-hungary",
   "metadata": {},
   "outputs": [
    {
     "data": {
      "text/plain": [
       "<module 'numpy.version' from 'C:\\\\Users\\\\Дмитрий\\\\AppData\\\\Roaming\\\\Python\\\\Python37\\\\site-packages\\\\numpy\\\\version.py'>"
      ]
     },
     "execution_count": 6,
     "metadata": {},
     "output_type": "execute_result"
    }
   ],
   "source": [
    "import numpy as np\n",
    "np.version"
   ]
  },
  {
   "cell_type": "code",
   "execution_count": 12,
   "id": "laden-blair",
   "metadata": {},
   "outputs": [
    {
     "name": "stdout",
     "output_type": "stream",
     "text": [
      "[4, 5, 7, 8, 5, 6, 4, 7, 8, 5]\n",
      "[4. 5. 7. 8. 5. 6. 4. 7. 8. 5.]\n"
     ]
    }
   ],
   "source": [
    "ordinalArray = [4,5,7,8,5,6,4,7,8,5]\n",
    "npArray = np.array(ordinalArray,float)\n",
    "print(ordinalArray)\n",
    "print(npArray)"
   ]
  },
  {
   "cell_type": "code",
   "execution_count": 13,
   "id": "controlled-cowboy",
   "metadata": {},
   "outputs": [
    {
     "name": "stdout",
     "output_type": "stream",
     "text": [
      "<class 'list'>\n",
      "<class 'numpy.ndarray'>\n"
     ]
    }
   ],
   "source": [
    "print(type(ordinalArray))\n",
    "print(type(npArray))"
   ]
  },
  {
   "cell_type": "code",
   "execution_count": 16,
   "id": "tender-confidence",
   "metadata": {},
   "outputs": [
    {
     "name": "stdout",
     "output_type": "stream",
     "text": [
      "[[4, 5, 7, 8, 5, 6, 4, 7, 8, 5], [4, 7, 8, 5, 4, 5, 7, 8, 5, 6], [4, 5, 7, 8, 5, 6, 4, 7, 8, 5], [4, 7, 8, 5, 4, 5, 7, 8, 5, 6], [4, 5, 7, 8, 5, 6, 4, 7, 8, 5], [4, 7, 8, 5, 4, 5, 7, 8, 5, 6], [4, 5, 7, 8, 5, 6, 4, 7, 8, 5], [4, 7, 8, 5, 4, 5, 7, 8, 5, 6], [4, 5, 7, 8, 5, 6, 4, 7, 8, 5], [4, 7, 8, 5, 4, 5, 7, 8, 5, 6]]\n",
      "[[4. 5. 7. 8. 5. 6. 4. 7. 8. 5.]\n",
      " [4. 7. 8. 5. 4. 5. 7. 8. 5. 6.]\n",
      " [4. 5. 7. 8. 5. 6. 4. 7. 8. 5.]\n",
      " [4. 7. 8. 5. 4. 5. 7. 8. 5. 6.]\n",
      " [4. 5. 7. 8. 5. 6. 4. 7. 8. 5.]\n",
      " [4. 7. 8. 5. 4. 5. 7. 8. 5. 6.]\n",
      " [4. 5. 7. 8. 5. 6. 4. 7. 8. 5.]\n",
      " [4. 7. 8. 5. 4. 5. 7. 8. 5. 6.]\n",
      " [4. 5. 7. 8. 5. 6. 4. 7. 8. 5.]\n",
      " [4. 7. 8. 5. 4. 5. 7. 8. 5. 6.]]\n"
     ]
    }
   ],
   "source": [
    "ordinalArray2D = [[4,5,7,8,5,6,4,7,8,5],\n",
    "                  [4,7,8,5,4,5,7,8,5,6],\n",
    "                  [4,5,7,8,5,6,4,7,8,5],\n",
    "                  [4,7,8,5,4,5,7,8,5,6],\n",
    "                  [4,5,7,8,5,6,4,7,8,5],\n",
    "                  [4,7,8,5,4,5,7,8,5,6],\n",
    "                  [4,5,7,8,5,6,4,7,8,5],\n",
    "                  [4,7,8,5,4,5,7,8,5,6],\n",
    "                  [4,5,7,8,5,6,4,7,8,5],\n",
    "                  [4,7,8,5,4,5,7,8,5,6]]\n",
    "npArray2D = np.array(ordinalArray2D,float)\n",
    "print((ordinalArray2D))\n",
    "print((npArray2D))"
   ]
  },
  {
   "cell_type": "code",
   "execution_count": 17,
   "id": "desperate-franklin",
   "metadata": {},
   "outputs": [
    {
     "data": {
      "text/plain": [
       "array([5., 4., 5., 4., 5., 4., 5., 4., 5., 4.])"
      ]
     },
     "execution_count": 17,
     "metadata": {},
     "output_type": "execute_result"
    }
   ],
   "source": [
    "npArray2D[:,4]"
   ]
  },
  {
   "cell_type": "code",
   "execution_count": 19,
   "id": "insured-shell",
   "metadata": {},
   "outputs": [
    {
     "data": {
      "text/plain": [
       "array([4., 5., 7., 8., 5., 6., 4., 7., 8., 5.])"
      ]
     },
     "execution_count": 19,
     "metadata": {},
     "output_type": "execute_result"
    }
   ],
   "source": [
    "npArray2D[0,:]"
   ]
  },
  {
   "cell_type": "code",
   "execution_count": 20,
   "id": "anticipated-neighbor",
   "metadata": {},
   "outputs": [
    {
     "data": {
      "text/plain": [
       "(10, 10)"
      ]
     },
     "execution_count": 20,
     "metadata": {},
     "output_type": "execute_result"
    }
   ],
   "source": [
    "npArray2D.shape"
   ]
  },
  {
   "cell_type": "code",
   "execution_count": 21,
   "id": "direct-drill",
   "metadata": {},
   "outputs": [],
   "source": [
    "npArray2D2 = np.array([[5,6,7],[4,1,2]])"
   ]
  },
  {
   "cell_type": "code",
   "execution_count": 22,
   "id": "generic-academy",
   "metadata": {},
   "outputs": [
    {
     "data": {
      "text/plain": [
       "(2, 3)"
      ]
     },
     "execution_count": 22,
     "metadata": {},
     "output_type": "execute_result"
    }
   ],
   "source": [
    "npArray2D2.shape"
   ]
  },
  {
   "cell_type": "code",
   "execution_count": 23,
   "id": "piano-threshold",
   "metadata": {},
   "outputs": [
    {
     "data": {
      "text/plain": [
       "dtype('int32')"
      ]
     },
     "execution_count": 23,
     "metadata": {},
     "output_type": "execute_result"
    }
   ],
   "source": [
    "npArray2D2.dtype"
   ]
  },
  {
   "cell_type": "code",
   "execution_count": 24,
   "id": "daily-costa",
   "metadata": {},
   "outputs": [
    {
     "data": {
      "text/plain": [
       "dtype('float64')"
      ]
     },
     "execution_count": 24,
     "metadata": {},
     "output_type": "execute_result"
    }
   ],
   "source": [
    "npArray2D.dtype"
   ]
  },
  {
   "cell_type": "code",
   "execution_count": 25,
   "id": "fluid-parade",
   "metadata": {},
   "outputs": [
    {
     "data": {
      "text/plain": [
       "10"
      ]
     },
     "execution_count": 25,
     "metadata": {},
     "output_type": "execute_result"
    }
   ],
   "source": [
    "len(npArray2D)"
   ]
  },
  {
   "cell_type": "code",
   "execution_count": 26,
   "id": "marine-ceramic",
   "metadata": {},
   "outputs": [
    {
     "data": {
      "text/plain": [
       "True"
      ]
     },
     "execution_count": 26,
     "metadata": {},
     "output_type": "execute_result"
    }
   ],
   "source": [
    "6 in npArray2D2"
   ]
  },
  {
   "cell_type": "code",
   "execution_count": 27,
   "id": "suitable-month",
   "metadata": {},
   "outputs": [
    {
     "data": {
      "text/plain": [
       "False"
      ]
     },
     "execution_count": 27,
     "metadata": {},
     "output_type": "execute_result"
    }
   ],
   "source": [
    "61 in npArray2D2"
   ]
  },
  {
   "cell_type": "code",
   "execution_count": 29,
   "id": "sought-basis",
   "metadata": {},
   "outputs": [
    {
     "name": "stdout",
     "output_type": "stream",
     "text": [
      "[0, 0, 0, 0, 0, 0, 0, 0, 0, 4, 8, 12, 16, 20, 24, 28, 0, 8, 16, 24, 32, 40, 48, 56, 0, 12, 24, 36, 48, 60, 72, 84, 0, 16, 32, 48, 64, 80, 96, 112, 0, 20, 40, 60, 80, 100, 120, 140, 0, 24, 48, 72, 96, 120, 144, 168, 0, 28, 56, 84, 112, 140, 168, 196, 0, 32, 64, 96, 128, 160, 192, 224, 0, 36, 72, 108, 144, 180, 216, 252, 0, 40, 80, 120, 160, 200, 240, 280, 0, 44, 88, 132, 176, 220, 264, 308, 0, 48, 96, 144, 192, 240, 288, 336, 0, 52, 104, 156, 208, 260, 312, 364, 0, 56, 112, 168, 224, 280, 336, 392, 0, 60, 120, 180, 240, 300, 360, 420, 0, 64, 128, 192, 256, 320, 384, 448, 0, 68, 136, 204, 272, 340, 408, 476, 0, 72, 144, 216, 288, 360, 432, 504, 0, 76, 152, 228, 304, 380, 456, 532, 0, 80, 160, 240, 320, 400, 480, 560, 0, 84, 168, 252, 336, 420, 504, 588, 0, 88, 176, 264, 352, 440, 528, 616, 0, 92, 184, 276, 368, 460, 552, 644, 0, 96, 192, 288, 384, 480, 576, 672, 0, 100, 200, 300, 400, 500, 600, 700, 0, 104, 208, 312, 416, 520, 624, 728, 0, 108, 216, 324, 432, 540, 648, 756, 0, 112, 224, 336, 448, 560, 672, 784, 0, 116, 232, 348, 464, 580, 696, 812]\n"
     ]
    }
   ],
   "source": [
    "Array3 = [i * j for i in range(30) for j in range(0,30,4)]\n",
    "print(Array3)"
   ]
  },
  {
   "cell_type": "code",
   "execution_count": 30,
   "id": "first-envelope",
   "metadata": {},
   "outputs": [
    {
     "data": {
      "text/plain": [
       "array([  0,   0,   0,   0,   0,   0,   0,   0,   0,   4,   8,  12,  16,\n",
       "        20,  24,  28,   0,   8,  16,  24,  32,  40,  48,  56,   0,  12,\n",
       "        24,  36,  48,  60,  72,  84,   0,  16,  32,  48,  64,  80,  96,\n",
       "       112,   0,  20,  40,  60,  80, 100, 120, 140,   0,  24,  48,  72,\n",
       "        96, 120, 144, 168,   0,  28,  56,  84, 112, 140, 168, 196,   0,\n",
       "        32,  64,  96, 128, 160, 192, 224,   0,  36,  72, 108, 144, 180,\n",
       "       216, 252,   0,  40,  80, 120, 160, 200, 240, 280,   0,  44,  88,\n",
       "       132, 176, 220, 264, 308,   0,  48,  96, 144, 192, 240, 288, 336,\n",
       "         0,  52, 104, 156, 208, 260, 312, 364,   0,  56, 112, 168, 224,\n",
       "       280, 336, 392,   0,  60, 120, 180, 240, 300, 360, 420,   0,  64,\n",
       "       128, 192, 256, 320, 384, 448,   0,  68, 136, 204, 272, 340, 408,\n",
       "       476,   0,  72, 144, 216, 288, 360, 432, 504,   0,  76, 152, 228,\n",
       "       304, 380, 456, 532,   0,  80, 160, 240, 320, 400, 480, 560,   0,\n",
       "        84, 168, 252, 336, 420, 504, 588,   0,  88, 176, 264, 352, 440,\n",
       "       528, 616,   0,  92, 184, 276, 368, 460, 552, 644,   0,  96, 192,\n",
       "       288, 384, 480, 576, 672,   0, 100, 200, 300, 400, 500, 600, 700,\n",
       "         0, 104, 208, 312, 416, 520, 624, 728,   0, 108, 216, 324, 432,\n",
       "       540, 648, 756,   0, 112, 224, 336, 448, 560, 672, 784,   0, 116,\n",
       "       232, 348, 464, 580, 696, 812])"
      ]
     },
     "execution_count": 30,
     "metadata": {},
     "output_type": "execute_result"
    }
   ],
   "source": [
    "npArray3 = np.array(Array3)\n",
    "npArray3"
   ]
  },
  {
   "cell_type": "code",
   "execution_count": 37,
   "id": "constant-obligation",
   "metadata": {},
   "outputs": [
    {
     "name": "stdout",
     "output_type": "stream",
     "text": [
      "[[  0   0   0   0   0   0   0   0   0   4   8  12  16  20  24  28]\n",
      " [  0   8  16  24  32  40  48  56   0  12  24  36  48  60  72  84]\n",
      " [  0  16  32  48  64  80  96 112   0  20  40  60  80 100 120 140]\n",
      " [  0  24  48  72  96 120 144 168   0  28  56  84 112 140 168 196]\n",
      " [  0  32  64  96 128 160 192 224   0  36  72 108 144 180 216 252]\n",
      " [  0  40  80 120 160 200 240 280   0  44  88 132 176 220 264 308]\n",
      " [  0  48  96 144 192 240 288 336   0  52 104 156 208 260 312 364]\n",
      " [  0  56 112 168 224 280 336 392   0  60 120 180 240 300 360 420]\n",
      " [  0  64 128 192 256 320 384 448   0  68 136 204 272 340 408 476]\n",
      " [  0  72 144 216 288 360 432 504   0  76 152 228 304 380 456 532]\n",
      " [  0  80 160 240 320 400 480 560   0  84 168 252 336 420 504 588]\n",
      " [  0  88 176 264 352 440 528 616   0  92 184 276 368 460 552 644]\n",
      " [  0  96 192 288 384 480 576 672   0 100 200 300 400 500 600 700]\n",
      " [  0 104 208 312 416 520 624 728   0 108 216 324 432 540 648 756]\n",
      " [  0 112 224 336 448 560 672 784   0 116 232 348 464 580 696 812]]\n"
     ]
    }
   ],
   "source": [
    "npArray3 = npArray3.reshape((15,16))\n",
    "print(npArray3)"
   ]
  },
  {
   "cell_type": "code",
   "execution_count": 38,
   "id": "parental-narrative",
   "metadata": {},
   "outputs": [
    {
     "data": {
      "text/plain": [
       "(15, 16)"
      ]
     },
     "execution_count": 38,
     "metadata": {},
     "output_type": "execute_result"
    }
   ],
   "source": [
    "npArray3.shape\n"
   ]
  },
  {
   "cell_type": "code",
   "execution_count": 40,
   "id": "banned-diversity",
   "metadata": {},
   "outputs": [
    {
     "data": {
      "text/plain": [
       "array([[1, 1, 1, 1, 1, 1, 1, 1, 1, 1, 1, 1, 1, 1, 1, 1],\n",
       "       [1, 1, 1, 1, 1, 1, 1, 1, 1, 1, 1, 1, 1, 1, 1, 1],\n",
       "       [1, 1, 1, 1, 1, 1, 1, 1, 1, 1, 1, 1, 1, 1, 1, 1],\n",
       "       [1, 1, 1, 1, 1, 1, 1, 1, 1, 1, 1, 1, 1, 1, 1, 1],\n",
       "       [1, 1, 1, 1, 1, 1, 1, 1, 1, 1, 1, 1, 1, 1, 1, 1],\n",
       "       [1, 1, 1, 1, 1, 1, 1, 1, 1, 1, 1, 1, 1, 1, 1, 1],\n",
       "       [1, 1, 1, 1, 1, 1, 1, 1, 1, 1, 1, 1, 1, 1, 1, 1],\n",
       "       [1, 1, 1, 1, 1, 1, 1, 1, 1, 1, 1, 1, 1, 1, 1, 1],\n",
       "       [1, 1, 1, 1, 1, 1, 1, 1, 1, 1, 1, 1, 1, 1, 1, 1],\n",
       "       [1, 1, 1, 1, 1, 1, 1, 1, 1, 1, 1, 1, 1, 1, 1, 1],\n",
       "       [1, 1, 1, 1, 1, 1, 1, 1, 1, 1, 1, 1, 1, 1, 1, 1],\n",
       "       [1, 1, 1, 1, 1, 1, 1, 1, 1, 1, 1, 1, 1, 1, 1, 1],\n",
       "       [1, 1, 1, 1, 1, 1, 1, 1, 1, 1, 1, 1, 1, 1, 1, 1],\n",
       "       [1, 1, 1, 1, 1, 1, 1, 1, 1, 1, 1, 1, 1, 1, 1, 1],\n",
       "       [1, 1, 1, 1, 1, 1, 1, 1, 1, 1, 1, 1, 1, 1, 1, 1]])"
      ]
     },
     "execution_count": 40,
     "metadata": {},
     "output_type": "execute_result"
    }
   ],
   "source": [
    "npArray3.fill(1)\n",
    "npArray3"
   ]
  },
  {
   "cell_type": "code",
   "execution_count": 44,
   "id": "departmental-familiar",
   "metadata": {},
   "outputs": [
    {
     "name": "stdout",
     "output_type": "stream",
     "text": [
      "[[5 4]\n",
      " [6 1]\n",
      " [7 2]]\n"
     ]
    }
   ],
   "source": [
    "print(npArray2D2.transpose())"
   ]
  },
  {
   "cell_type": "code",
   "execution_count": 45,
   "id": "south-sister",
   "metadata": {},
   "outputs": [
    {
     "name": "stdout",
     "output_type": "stream",
     "text": [
      "[[5 6 7]\n",
      " [4 1 2]]\n"
     ]
    }
   ],
   "source": [
    "print(npArray2D2)"
   ]
  },
  {
   "cell_type": "code",
   "execution_count": 48,
   "id": "generic-message",
   "metadata": {},
   "outputs": [],
   "source": [
    "npArray2D2[0,0] = 0"
   ]
  },
  {
   "cell_type": "code",
   "execution_count": 49,
   "id": "moved-chest",
   "metadata": {},
   "outputs": [
    {
     "data": {
      "text/plain": [
       "array([[0, 6, 7],\n",
       "       [4, 1, 2]])"
      ]
     },
     "execution_count": 49,
     "metadata": {},
     "output_type": "execute_result"
    }
   ],
   "source": [
    "npArray2D2"
   ]
  },
  {
   "cell_type": "code",
   "execution_count": 50,
   "id": "alternative-guidance",
   "metadata": {},
   "outputs": [
    {
     "name": "stdout",
     "output_type": "stream",
     "text": [
      "[0 6 7 4 1 2]\n"
     ]
    }
   ],
   "source": [
    "print(npArray2D2.flatten())"
   ]
  },
  {
   "cell_type": "code",
   "execution_count": 51,
   "id": "offensive-maximum",
   "metadata": {},
   "outputs": [
    {
     "data": {
      "text/plain": [
       "array([[0, 6, 7],\n",
       "       [4, 1, 2]])"
      ]
     },
     "execution_count": 51,
     "metadata": {},
     "output_type": "execute_result"
    }
   ],
   "source": [
    "npArray2D2"
   ]
  },
  {
   "cell_type": "code",
   "execution_count": 52,
   "id": "regular-split",
   "metadata": {},
   "outputs": [],
   "source": [
    "npArray2D3 = np.array([[4,6,7],[3,1,4]])"
   ]
  },
  {
   "cell_type": "code",
   "execution_count": 55,
   "id": "processed-democracy",
   "metadata": {},
   "outputs": [],
   "source": [
    "npArray2D4 = np.concatenate((npArray2D2,npArray2D3))"
   ]
  },
  {
   "cell_type": "code",
   "execution_count": 56,
   "id": "impressed-rochester",
   "metadata": {},
   "outputs": [
    {
     "name": "stdout",
     "output_type": "stream",
     "text": [
      "[[0 6 7]\n",
      " [4 1 2]\n",
      " [4 6 7]\n",
      " [3 1 4]]\n"
     ]
    }
   ],
   "source": [
    "print(npArray2D4)"
   ]
  },
  {
   "cell_type": "code",
   "execution_count": 58,
   "id": "interracial-appreciation",
   "metadata": {},
   "outputs": [],
   "source": [
    "npArray3D4 = npArray2D4[:,np.newaxis]"
   ]
  },
  {
   "cell_type": "code",
   "execution_count": 59,
   "id": "tight-bulletin",
   "metadata": {},
   "outputs": [
    {
     "data": {
      "text/plain": [
       "(4, 1, 3)"
      ]
     },
     "execution_count": 59,
     "metadata": {},
     "output_type": "execute_result"
    }
   ],
   "source": [
    "npArray3D4.shape"
   ]
  },
  {
   "cell_type": "code",
   "execution_count": 60,
   "id": "forty-lighting",
   "metadata": {},
   "outputs": [
    {
     "name": "stdout",
     "output_type": "stream",
     "text": [
      "[[1 1 1 1]\n",
      " [1 1 1 1]\n",
      " [1 1 1 1]\n",
      " [1 1 1 1]]\n"
     ]
    }
   ],
   "source": [
    "print(np.ones((4,4),int))"
   ]
  },
  {
   "cell_type": "code",
   "execution_count": 62,
   "id": "smoking-intellectual",
   "metadata": {},
   "outputs": [
    {
     "name": "stdout",
     "output_type": "stream",
     "text": [
      "[[1 0 0 0]\n",
      " [0 1 0 0]\n",
      " [0 0 1 0]\n",
      " [0 0 0 1]]\n"
     ]
    }
   ],
   "source": [
    "print(np.identity(4,int))"
   ]
  },
  {
   "cell_type": "code",
   "execution_count": 66,
   "id": "opened-degree",
   "metadata": {},
   "outputs": [
    {
     "name": "stdout",
     "output_type": "stream",
     "text": [
      "[[0 0 0 0 0 0 0 0]\n",
      " [1 0 0 0 0 0 0 0]\n",
      " [0 1 0 0 0 0 0 0]\n",
      " [0 0 1 0 0 0 0 0]\n",
      " [0 0 0 1 0 0 0 0]\n",
      " [0 0 0 0 1 0 0 0]\n",
      " [0 0 0 0 0 1 0 0]\n",
      " [0 0 0 0 0 0 1 0]]\n"
     ]
    }
   ],
   "source": [
    "print(np.eye(8,k=-1,dtype=int))"
   ]
  },
  {
   "cell_type": "code",
   "execution_count": 71,
   "id": "silver-roulette",
   "metadata": {},
   "outputs": [
    {
     "data": {
      "text/plain": [
       "array([6, 4, 9])"
      ]
     },
     "execution_count": 71,
     "metadata": {},
     "output_type": "execute_result"
    }
   ],
   "source": [
    "a = np.array([1,2,3])\n",
    "b = np.array([5,2,6])\n",
    "a + b"
   ]
  },
  {
   "cell_type": "code",
   "execution_count": 72,
   "id": "intense-plain",
   "metadata": {},
   "outputs": [
    {
     "data": {
      "text/plain": [
       "array([-4,  0, -3])"
      ]
     },
     "execution_count": 72,
     "metadata": {},
     "output_type": "execute_result"
    }
   ],
   "source": [
    "a - b"
   ]
  },
  {
   "cell_type": "code",
   "execution_count": 73,
   "id": "fabulous-fellow",
   "metadata": {},
   "outputs": [
    {
     "data": {
      "text/plain": [
       "array([ 5,  4, 18])"
      ]
     },
     "execution_count": 73,
     "metadata": {},
     "output_type": "execute_result"
    }
   ],
   "source": [
    "a * b"
   ]
  },
  {
   "cell_type": "code",
   "execution_count": 74,
   "id": "noble-tracy",
   "metadata": {},
   "outputs": [
    {
     "data": {
      "text/plain": [
       "array([0.2, 1. , 0.5])"
      ]
     },
     "execution_count": 74,
     "metadata": {},
     "output_type": "execute_result"
    }
   ],
   "source": [
    "a / b"
   ]
  },
  {
   "cell_type": "code",
   "execution_count": 75,
   "id": "square-mailing",
   "metadata": {},
   "outputs": [
    {
     "data": {
      "text/plain": [
       "array([1, 0, 3], dtype=int32)"
      ]
     },
     "execution_count": 75,
     "metadata": {},
     "output_type": "execute_result"
    }
   ],
   "source": [
    "a % b"
   ]
  },
  {
   "cell_type": "code",
   "execution_count": 76,
   "id": "opposed-illustration",
   "metadata": {},
   "outputs": [
    {
     "data": {
      "text/plain": [
       "6"
      ]
     },
     "execution_count": 76,
     "metadata": {},
     "output_type": "execute_result"
    }
   ],
   "source": [
    "a.sum()"
   ]
  },
  {
   "cell_type": "code",
   "execution_count": 77,
   "id": "isolated-carter",
   "metadata": {},
   "outputs": [
    {
     "data": {
      "text/plain": [
       "6"
      ]
     },
     "execution_count": 77,
     "metadata": {},
     "output_type": "execute_result"
    }
   ],
   "source": [
    "a.prod()"
   ]
  },
  {
   "cell_type": "code",
   "execution_count": 78,
   "id": "collectible-disposition",
   "metadata": {},
   "outputs": [
    {
     "data": {
      "text/plain": [
       "60"
      ]
     },
     "execution_count": 78,
     "metadata": {},
     "output_type": "execute_result"
    }
   ],
   "source": [
    "b.prod()"
   ]
  },
  {
   "cell_type": "code",
   "execution_count": 79,
   "id": "willing-egyptian",
   "metadata": {},
   "outputs": [
    {
     "data": {
      "text/plain": [
       "13"
      ]
     },
     "execution_count": 79,
     "metadata": {},
     "output_type": "execute_result"
    }
   ],
   "source": [
    "b.sum()"
   ]
  },
  {
   "cell_type": "code",
   "execution_count": 80,
   "id": "cleared-fever",
   "metadata": {},
   "outputs": [
    {
     "data": {
      "text/plain": [
       "4.333333333333333"
      ]
     },
     "execution_count": 80,
     "metadata": {},
     "output_type": "execute_result"
    }
   ],
   "source": [
    "b.mean()"
   ]
  },
  {
   "cell_type": "code",
   "execution_count": 81,
   "id": "impressed-stadium",
   "metadata": {},
   "outputs": [
    {
     "data": {
      "text/plain": [
       "2.888888888888889"
      ]
     },
     "execution_count": 81,
     "metadata": {},
     "output_type": "execute_result"
    }
   ],
   "source": [
    "b.var()"
   ]
  },
  {
   "cell_type": "code",
   "execution_count": 83,
   "id": "attractive-strain",
   "metadata": {},
   "outputs": [
    {
     "data": {
      "text/plain": [
       "1.699673171197595"
      ]
     },
     "execution_count": 83,
     "metadata": {},
     "output_type": "execute_result"
    }
   ],
   "source": [
    "b.std()"
   ]
  },
  {
   "cell_type": "code",
   "execution_count": 84,
   "id": "hungry-justice",
   "metadata": {},
   "outputs": [
    {
     "data": {
      "text/plain": [
       "3"
      ]
     },
     "execution_count": 84,
     "metadata": {},
     "output_type": "execute_result"
    }
   ],
   "source": [
    "a.max()"
   ]
  },
  {
   "cell_type": "code",
   "execution_count": 85,
   "id": "scheduled-gates",
   "metadata": {},
   "outputs": [
    {
     "data": {
      "text/plain": [
       "1"
      ]
     },
     "execution_count": 85,
     "metadata": {},
     "output_type": "execute_result"
    }
   ],
   "source": [
    "a.min()"
   ]
  },
  {
   "cell_type": "code",
   "execution_count": 86,
   "id": "clean-genius",
   "metadata": {},
   "outputs": [
    {
     "data": {
      "text/plain": [
       "2"
      ]
     },
     "execution_count": 86,
     "metadata": {},
     "output_type": "execute_result"
    }
   ],
   "source": [
    "a.argmax()"
   ]
  },
  {
   "cell_type": "code",
   "execution_count": 87,
   "id": "stone-junction",
   "metadata": {},
   "outputs": [
    {
     "data": {
      "text/plain": [
       "0"
      ]
     },
     "execution_count": 87,
     "metadata": {},
     "output_type": "execute_result"
    }
   ],
   "source": [
    "a.argmin()"
   ]
  },
  {
   "cell_type": "code",
   "execution_count": 88,
   "id": "sufficient-ceremony",
   "metadata": {},
   "outputs": [
    {
     "data": {
      "text/plain": [
       "array([[0, 6, 7],\n",
       "       [4, 1, 2],\n",
       "       [4, 6, 7],\n",
       "       [3, 1, 4]])"
      ]
     },
     "execution_count": 88,
     "metadata": {},
     "output_type": "execute_result"
    }
   ],
   "source": [
    "npArray2D4"
   ]
  },
  {
   "cell_type": "code",
   "execution_count": 89,
   "id": "abstract-still",
   "metadata": {},
   "outputs": [
    {
     "data": {
      "text/plain": [
       "7"
      ]
     },
     "execution_count": 89,
     "metadata": {},
     "output_type": "execute_result"
    }
   ],
   "source": [
    "npArray2D4.max()"
   ]
  },
  {
   "cell_type": "code",
   "execution_count": 90,
   "id": "every-carol",
   "metadata": {},
   "outputs": [
    {
     "data": {
      "text/plain": [
       "2"
      ]
     },
     "execution_count": 90,
     "metadata": {},
     "output_type": "execute_result"
    }
   ],
   "source": [
    "npArray2D4.argmax()"
   ]
  },
  {
   "cell_type": "code",
   "execution_count": 91,
   "id": "quick-fashion",
   "metadata": {},
   "outputs": [
    {
     "data": {
      "text/plain": [
       "array([7, 4, 7, 4])"
      ]
     },
     "execution_count": 91,
     "metadata": {},
     "output_type": "execute_result"
    }
   ],
   "source": [
    "npArray2D4.max(axis=1)"
   ]
  },
  {
   "cell_type": "code",
   "execution_count": 92,
   "id": "cooked-montana",
   "metadata": {},
   "outputs": [
    {
     "data": {
      "text/plain": [
       "array([[0, 5, 5],\n",
       "       [4, 1, 2],\n",
       "       [4, 5, 5],\n",
       "       [3, 1, 4]])"
      ]
     },
     "execution_count": 92,
     "metadata": {},
     "output_type": "execute_result"
    }
   ],
   "source": [
    "npArray2D4.clip(0,5)"
   ]
  },
  {
   "cell_type": "code",
   "execution_count": 93,
   "id": "specified-barrier",
   "metadata": {},
   "outputs": [
    {
     "data": {
      "text/plain": [
       "array([[2, 5, 5],\n",
       "       [4, 2, 2],\n",
       "       [4, 5, 5],\n",
       "       [3, 2, 4]])"
      ]
     },
     "execution_count": 93,
     "metadata": {},
     "output_type": "execute_result"
    }
   ],
   "source": [
    "npArray2D4.clip(2,5)"
   ]
  },
  {
   "cell_type": "code",
   "execution_count": 94,
   "id": "exotic-opening",
   "metadata": {},
   "outputs": [
    {
     "data": {
      "text/plain": [
       "array([0, 1, 7])"
      ]
     },
     "execution_count": 94,
     "metadata": {},
     "output_type": "execute_result"
    }
   ],
   "source": [
    "npArray2D4.diagonal()"
   ]
  },
  {
   "cell_type": "code",
   "execution_count": null,
   "id": "express-criterion",
   "metadata": {},
   "outputs": [],
   "source": []
  }
 ],
 "metadata": {
  "kernelspec": {
   "display_name": "Python 3",
   "language": "python",
   "name": "python3"
  },
  "language_info": {
   "codemirror_mode": {
    "name": "ipython",
    "version": 3
   },
   "file_extension": ".py",
   "mimetype": "text/x-python",
   "name": "python",
   "nbconvert_exporter": "python",
   "pygments_lexer": "ipython3",
   "version": "3.7.8"
  }
 },
 "nbformat": 4,
 "nbformat_minor": 5
}
